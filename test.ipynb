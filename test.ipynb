{
 "cells": [
  {
   "cell_type": "code",
   "execution_count": null,
   "metadata": {},
   "outputs": [
    {
     "data": {
      "text/plain": [
       "<class 'str'>\n",
       "ijyryquvvfxfbcid\n",
       "1649157181@qq.com\n",
       "smtp.qq.com\n",
       "465\n"
      ]
     },
     "metadata": {},
     "output_type": "display_data"
    }
   ],
   "source": [
    "import configparser\n",
    "config = configparser.ConfigParser()\n",
    "config.read(\"./config.cfg\", encoding = \"UTF-8\")  # 读取配置文件\n",
    "conf_email = config[\"Email_Setting\"]\n",
    "\n",
    "Email_sender = conf_email['Email_sender']\n",
    "Email_password = conf_email['Email_password']  # 邮箱SMTP授权码\n",
    "Email_receiver = conf_email['Email_receiver']  # 接收邮箱\n",
    "SMTP_server = conf_email['SMTP_server']  # 邮箱SMTP服务器\n",
    "SMTP_port = 587\n",
    "\n",
    "print(type(Email_sender))\n",
    "print(Email_password)\n",
    "print(Email_receiver)\n",
    "print(SMTP_server)\n",
    "print(SMTP_port)"
   ]
  },
  {
   "cell_type": "code",
   "execution_count": null,
   "metadata": {},
   "outputs": [
    {
     "data": {
      "text/plain": [
       "True\n",
       "<class 'str'>\n"
      ]
     },
     "metadata": {},
     "output_type": "display_data"
    }
   ],
   "source": [
    "EMAIL_SENDER = \"772644274@qq.com\"\n",
    "EMAIL_pass = \"ijyryquvvfxfbcid\"\n",
    "SMTP_SERVER = \"smtp.qq.com\"\n",
    "SMTP_PORT = 465\n",
    "\n",
    "print(EMAIL_pass == Email_password)\n",
    "print(type(Email_password))\n",
    "\n",
    "\"ijyryquvvfxfbcid\""
   ]
  },
  {
   "cell_type": "code",
   "execution_count": null,
   "metadata": {},
   "outputs": [
    {
     "data": {
      "text/plain": [
       "157.148.54.34\n"
      ]
     },
     "metadata": {},
     "output_type": "display_data"
    }
   ],
   "source": [
    "import socket\n",
    "\n",
    "try:\n",
    "    print(socket.gethostbyname(\"smtp.qq.com\"))\n",
    "except socket.gaierror as e:\n",
    "    print(f\"无法解析：{e}\")"
   ]
  },
  {
   "cell_type": "code",
   "execution_count": null,
   "metadata": {},
   "outputs": [
    {
     "data": {
      "text/plain": [
       "SMTP 服务器连接成功\n"
      ]
     },
     "metadata": {},
     "output_type": "display_data"
    }
   ],
   "source": [
    "import smtplib\n",
    "\n",
    "SMTP_sERVER = \"smtp.qq.com\"\n",
    "SMTP_port = 587\n",
    "\n",
    "try:\n",
    "    server = smtplib.SMTP(SMTP_server, SMTP_port, timeout = 10)\n",
    "    server.starttls()\n",
    "    print(\"SMTP 服务器连接成功\")\n",
    "    server.quit()\n",
    "except Exception as e:\n",
    "    print(f\"SMTP 服务器连接失败: {e}\")"
   ]
  },
  {
   "cell_type": "code",
   "execution_count": null,
   "metadata": {},
   "outputs": [],
   "source": [
    "from email.mime.text import MIMEText\n",
    "from email.mime.multipart import MIMEMultipart\n",
    "import traceback\n",
    "# 发送邮件警告\n",
    "def send_email_alert(timestamp, pressure):\n",
    "    try:\n",
    "        subject = \"【警告】水利工程系统压力过高\"\n",
    "        body = f\"警告！\\n时间：{timestamp}\\n压力过大：{pressure}Mpa\\n请立即处理！\"\n",
    "        msg = MIMEMultipart()\n",
    "        msg[\"From\"] = Email_sender\n",
    "        msg[\"To\"] = Email_receiver\n",
    "        msg[\"Subject\"] = subject\n",
    "        msg.attach(MIMEText(body, \"plain\", \"utf-8\"))\n",
    "        print(msg)\n",
    "\n",
    "        # 连接SMTP服务器并发送邮件\n",
    "        server = smtplib.SMTP(SMTP_server, SMTP_port)\n",
    "        server.starttls()  # 启用TLS加密\n",
    "        server.login(Email_sender, Email_password)\n",
    "        server.sendmail(Email_sender, Email_receiver, msg.as_string())\n",
    "        server.quit()\n",
    "\n",
    "        print(\"警告邮件已发送\")\n",
    "    except Exception as e:\n",
    "        print(f\"警告邮件发送失败：{e}\")"
   ]
  },
  {
   "cell_type": "code",
   "execution_count": null,
   "metadata": {},
   "outputs": [
    {
     "data": {
      "text/plain": [
       "Content-Type: multipart/mixed; boundary=\"===============9081650732714822295==\"\n",
       "MIME-Version: 1.0\n",
       "From: 772644274@qq.com\n",
       "To: 1649157181@qq.com\n",
       "Subject: =?utf-8?b?44CQ6K2m5ZGK44CR5rC05Yip5bel56iL57O757uf5Y6L5Yqb6L+H6auY?=\n",
       "\n",
       "--===============9081650732714822295==\n",
       "Content-Type: text/plain; charset=\"utf-8\"\n",
       "MIME-Version: 1.0\n",
       "Content-Transfer-Encoding: base64\n",
       "\n",
       "6K2m5ZGK77yBCuaXtumXtO+8mjIwMjUtMDMtMDUK5Y6L5Yqb6L+H5aSn77yaMi4xTXBhCuivt+er\n",
       "i+WNs+WkhOeQhu+8gQ==\n",
       "\n",
       "--===============9081650732714822295==--\n",
       "\n",
       "警告邮件发送失败：Connection unexpectedly closed\n"
      ]
     },
     "metadata": {},
     "output_type": "display_data"
    }
   ],
   "source": [
    "send_email_alert(\"2025-03-05\", 2.1)"
   ]
  },
  {
   "cell_type": "code",
   "execution_count": null,
   "metadata": {},
   "outputs": [
    {
     "data": {
      "text/plain": [
       "🔵 1. 正在连接 SMTP 服务器...\n",
       "✅ 2. 连接成功，尝试登录...\n",
       "✅ 3. 登录成功，尝试发送邮件...\n",
       "✅ 4. 邮件发送成功！\n"
      ]
     },
     "metadata": {},
     "output_type": "display_data"
    }
   ],
   "source": [
    "import smtplib\n",
    "from email.mime.text import MIMEText\n",
    "\n",
    "EMAIL_SENDER = \"772644274@qq.com\"\n",
    "EMAIL_PASSWORD = \"ijyryquvvfxfbcid\"\n",
    "SMTP_SERVER = \"smtp.qq.com\"\n",
    "SMTP_PORT = 465\n",
    "\n",
    "try:\n",
    "    print(\"🔵 1. 正在连接 SMTP 服务器...\")\n",
    "    server = smtplib.SMTP_SSL(SMTP_SERVER, SMTP_PORT, timeout=10)\n",
    "    # server.starttls()  # 启用TLS加密\n",
    "    print(\"✅ 2. 连接成功，尝试登录...\")\n",
    "    \n",
    "    server.login(EMAIL_SENDER, Email_password)\n",
    "    print(\"✅ 3. 登录成功，尝试发送邮件...\")\n",
    "\n",
    "    message = MIMEText(\"测试邮件内容\", \"plain\", \"utf-8\")\n",
    "    message[\"From\"] = Email_sender\n",
    "    message[\"To\"] = Email_sender\n",
    "    message[\"Subject\"] = \"SMTP 服务器测试\"\n",
    "\n",
    "    server.sendmail(Email_sender, Email_sender, message.as_string())\n",
    "    server.quit()\n",
    "    print(\"✅ 4. 邮件发送成功！\")\n",
    "\n",
    "except Exception as e:\n",
    "    print(f\"❌ 发生错误：{e}\")"
   ]
  }
 ],
 "metadata": {
  "language_info": {
   "name": "python"
  }
 },
 "nbformat": 4,
 "nbformat_minor": 2
}
